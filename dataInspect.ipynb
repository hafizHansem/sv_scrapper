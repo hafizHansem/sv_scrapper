{
 "cells": [
  {
   "cell_type": "code",
   "execution_count": 1,
   "metadata": {},
   "outputs": [],
   "source": [
    "import pandas as pd"
   ]
  },
  {
   "cell_type": "code",
   "execution_count": 9,
   "metadata": {},
   "outputs": [
    {
     "data": {
      "text/html": [
       "<div>\n",
       "<style scoped>\n",
       "    .dataframe tbody tr th:only-of-type {\n",
       "        vertical-align: middle;\n",
       "    }\n",
       "\n",
       "    .dataframe tbody tr th {\n",
       "        vertical-align: top;\n",
       "    }\n",
       "\n",
       "    .dataframe thead th {\n",
       "        text-align: right;\n",
       "    }\n",
       "</style>\n",
       "<table border=\"1\" class=\"dataframe\">\n",
       "  <thead>\n",
       "    <tr style=\"text-align: right;\">\n",
       "      <th></th>\n",
       "      <th>Product Name</th>\n",
       "      <th>Price</th>\n",
       "      <th>Like Count</th>\n",
       "      <th>Comment Count</th>\n",
       "      <th>Comment Date</th>\n",
       "    </tr>\n",
       "  </thead>\n",
       "  <tbody>\n",
       "    <tr>\n",
       "      <th>0</th>\n",
       "      <td>Celengan Target JUMBO Permanen atau Buka Tutup</td>\n",
       "      <td>Rp11.875</td>\n",
       "      <td>750</td>\n",
       "      <td>111</td>\n",
       "      <td>23 Apr</td>\n",
       "    </tr>\n",
       "    <tr>\n",
       "      <th>1</th>\n",
       "      <td>OTG 2 IN 1 DINAMI MICRO TYPE C FAST TRANSFER O...</td>\n",
       "      <td>Rp5.999</td>\n",
       "      <td>1,4RB</td>\n",
       "      <td>19</td>\n",
       "      <td>26 Feb</td>\n",
       "    </tr>\n",
       "    <tr>\n",
       "      <th>2</th>\n",
       "      <td>500gr - BASRENG SULTAN BANDUNG</td>\n",
       "      <td>Rp25.650</td>\n",
       "      <td>10,1RB</td>\n",
       "      <td>569</td>\n",
       "      <td>1 Apr</td>\n",
       "    </tr>\n",
       "    <tr>\n",
       "      <th>3</th>\n",
       "      <td>RG TWS Headset Bluetooth f9 f9-5 Air 13 Pro M1...</td>\n",
       "      <td>Rp30.875</td>\n",
       "      <td>662</td>\n",
       "      <td>17</td>\n",
       "      <td>24 Apr</td>\n",
       "    </tr>\n",
       "    <tr>\n",
       "      <th>4</th>\n",
       "      <td>HC-17 Kabel Data Charger 3in1 Tipe C + Micro +...</td>\n",
       "      <td>Rp9.950</td>\n",
       "      <td>4,2RB</td>\n",
       "      <td>119</td>\n",
       "      <td>19 Mar</td>\n",
       "    </tr>\n",
       "    <tr>\n",
       "      <th>5</th>\n",
       "      <td>Eat Sambel - SEMUA VARIAN RASA (BEST SELLER!!!)</td>\n",
       "      <td>Rp35.000</td>\n",
       "      <td>1,3RB</td>\n",
       "      <td>24</td>\n",
       "      <td>16 Mei</td>\n",
       "    </tr>\n",
       "  </tbody>\n",
       "</table>\n",
       "</div>"
      ],
      "text/plain": [
       "                                        Product Name     Price Like Count  \\\n",
       "0     Celengan Target JUMBO Permanen atau Buka Tutup  Rp11.875        750   \n",
       "1  OTG 2 IN 1 DINAMI MICRO TYPE C FAST TRANSFER O...   Rp5.999      1,4RB   \n",
       "2                     500gr - BASRENG SULTAN BANDUNG  Rp25.650     10,1RB   \n",
       "3  RG TWS Headset Bluetooth f9 f9-5 Air 13 Pro M1...  Rp30.875        662   \n",
       "4  HC-17 Kabel Data Charger 3in1 Tipe C + Micro +...   Rp9.950      4,2RB   \n",
       "5    Eat Sambel - SEMUA VARIAN RASA (BEST SELLER!!!)  Rp35.000      1,3RB   \n",
       "\n",
       "   Comment Count Comment Date  \n",
       "0            111       23 Apr  \n",
       "1             19       26 Feb  \n",
       "2            569        1 Apr  \n",
       "3             17       24 Apr  \n",
       "4            119       19 Mar  \n",
       "5             24       16 Mei  "
      ]
     },
     "execution_count": 9,
     "metadata": {},
     "output_type": "execute_result"
    }
   ],
   "source": [
    "pd.read_csv('product_data.csv')"
   ]
  }
 ],
 "metadata": {
  "kernelspec": {
   "display_name": "Python 3",
   "language": "python",
   "name": "python3"
  },
  "language_info": {
   "codemirror_mode": {
    "name": "ipython",
    "version": 3
   },
   "file_extension": ".py",
   "mimetype": "text/x-python",
   "name": "python",
   "nbconvert_exporter": "python",
   "pygments_lexer": "ipython3",
   "version": "3.10.10"
  }
 },
 "nbformat": 4,
 "nbformat_minor": 2
}
